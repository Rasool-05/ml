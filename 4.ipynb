import gensim.downloader as api
model=api.load("glove-wiki-gigaword-50")
def enrich_prompt (prompt, num_similar = 3):
  words = prompt.split()
  enriched_words = []
  for word in words:
    try:
      similar_words = [w for w, _ in model.most_similar(word, topn=num_similar)]
      enriched_words.append(word + "(" +",".join(similar_words) + ")")
    except KeyError:
      enriched_words.append(word)
  return ' '.join(enriched_words)
original_prompt = "Write a story about a Dog."
enriched_prompt = enrich_prompt(original_prompt)
print("Original Prompt: ",original_prompt)
print("Enriched Prompt: ",enriched_prompt)
